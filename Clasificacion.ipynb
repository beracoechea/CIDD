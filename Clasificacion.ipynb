{
 "cells": [
  {
   "cell_type": "code",
   "execution_count": 98,
   "metadata": {},
   "outputs": [],
   "source": [
    "import re\n",
    "import pandas as pd \n",
    "\n",
    "\n",
    "def load_data(file_path):\n",
    "    \"\"\"Cargar datos desde un archivo CSV y eliminar columnas innecesarias.\"\"\"\n",
    "    data = pd.read_csv(file_path, header=None)\n",
    "    column_names = ['Tipo', 'Subtipo', 'Descripcion', 'Columna4', 'Columna5', 'Columna6', 'Columna7', 'Columna8']\n",
    "    data.columns = column_names\n",
    "    \n",
    "    # Eliminar las columnas 4, 5, 6 y 7\n",
    "    data = data.drop(['Columna4', 'Columna5', 'Columna6', 'Columna7','Columna8'], axis=1)\n",
    "    \n",
    "    return data\n"
   ]
  },
  {
   "cell_type": "code",
   "execution_count": 99,
   "metadata": {},
   "outputs": [],
   "source": [
    "def clean_description(text):\n",
    "    \"\"\"Limpiar el texto y devolver una lista de palabras.\"\"\"\n",
    "    if not isinstance(text, str):\n",
    "        text = \"\"\n",
    "    text = text.lower()\n",
    "    text = re.sub(r'[^a-z\\s]', '', text)\n",
    "    words = text.split()\n",
    "    stoplist = set([\n",
    "        'de', 'con', 'y', 'sin', 'que', 'o', 'a', 'la', 'al', 'un', 'una', \n",
    "        'los', 'las', 'por', 'en', 'no', 'n.d', 'para', 's/m', 's/n', \n",
    "        'el', 'del', 'x/la', 'a', 'es','x',\n",
    "    ])\n",
    "    words = [word for word in words if word not in stoplist]\n",
    "    return words"
   ]
  },
  {
   "cell_type": "code",
   "execution_count": 100,
   "metadata": {},
   "outputs": [],
   "source": [
    "def process_and_classify(data):\n",
    "    \"\"\"Añadir nuevas columnas para cada palabra de la descripción.\"\"\"\n",
    "    # Aplicar limpieza a la columna 'Descripcion'\n",
    "    data['Descripcion_Limpia'] = data['Descripcion'].apply(clean_description)\n",
    "    return data"
   ]
  },
  {
   "cell_type": "code",
   "execution_count": 101,
   "metadata": {},
   "outputs": [],
   "source": [
    "def filter_items(data, search_term):\n",
    "    \"\"\"Filtrar artículos que contengan el término de búsqueda en la descripción.\"\"\"\n",
    "    search_term = search_term.lower()\n",
    "    filtered_data = data[data['Descripcion_Limpia'].apply(lambda x: search_term in x)]\n",
    "    return filtered_data"
   ]
  },
  {
   "cell_type": "code",
   "execution_count": 102,
   "metadata": {},
   "outputs": [],
   "source": [
    "def save_results(data, output_file):\n",
    "    \"\"\"Guardar el DataFrame con las nuevas columnas en un archivo CSV.\"\"\"\n",
    "    data.to_csv(output_file, index=False)\n",
    "    print(f\"Resultados guardados en '{output_file}'\")"
   ]
  },
  {
   "cell_type": "code",
   "execution_count": 103,
   "metadata": {},
   "outputs": [],
   "source": [
    "def print_attributes(data):\n",
    "    \"\"\"Imprimir todos los atributos y su total.\"\"\"\n",
    "    attributes = pd.DataFrame(data.columns, columns=['Atributos'])\n",
    "    total_attributes = len(data.columns)\n",
    "    total_row = pd.DataFrame({'Atributos': ['Total'], 'Total': [total_attributes]})\n",
    "    attributes_with_total = pd.concat([attributes, total_row], ignore_index=True)\n",
    "    print(attributes_with_total)"
   ]
  },
  {
   "cell_type": "code",
   "execution_count": 104,
   "metadata": {},
   "outputs": [
    {
     "name": "stdout",
     "output_type": "stream",
     "text": [
      "            Atributos  Total\n",
      "0                Tipo    NaN\n",
      "1             Subtipo    NaN\n",
      "2         Descripcion    NaN\n",
      "3  Descripcion_Limpia    NaN\n",
      "4               Total    4.0\n",
      "Resultados guardados en 'Clasificacion_Extendida.csv'\n"
     ]
    }
   ],
   "source": [
    "if __name__ == \"__main__\":\n",
    "    # Cargar los datos\n",
    "    data = load_data('Actividad10000.csv')\n",
    "\n",
    "    # Procesar y clasificar los datos\n",
    "    data = process_and_classify(data)\n",
    "\n",
    "    # Imprimir los atributos y el total\n",
    "    print_attributes(data)\n",
    "\n",
    "    # Guardar resultados\n",
    "    save_results(data, 'Clasificacion_Extendida.csv')"
   ]
  }
 ],
 "metadata": {
  "kernelspec": {
   "display_name": "Python 3",
   "language": "python",
   "name": "python3"
  },
  "language_info": {
   "codemirror_mode": {
    "name": "ipython",
    "version": 3
   },
   "file_extension": ".py",
   "mimetype": "text/x-python",
   "name": "python",
   "nbconvert_exporter": "python",
   "pygments_lexer": "ipython3",
   "version": "3.12.6"
  }
 },
 "nbformat": 4,
 "nbformat_minor": 2
}
