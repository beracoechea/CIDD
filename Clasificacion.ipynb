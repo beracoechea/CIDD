{
 "cells": [
  {
   "cell_type": "code",
   "execution_count": 161,
   "metadata": {},
   "outputs": [],
   "source": [
    "import re\n",
    "import pandas as pd \n",
    "from collections import Counter\n",
    "\n",
    "\n",
    "def load_data(file_path):\n",
    "    \"\"\"Cargar datos desde un archivo CSV.\"\"\"\n",
    "    data = pd.read_csv(file_path, header=None)\n",
    "    column_names = ['Tipo', 'Subtipo', 'Descripcion', 'Columna4', 'Columna5', 'Columna6', 'Columna7', 'Columna8']\n",
    "    data.columns = column_names\n",
    "    # Eliminar las columnas 4, 5, 6 y 7\n",
    "    data = data.drop(['Columna4', 'Columna5', 'Columna6', 'Columna7','Columna8'], axis=1)\n",
    "    return data\n",
    "\n"
   ]
  },
  {
   "cell_type": "code",
   "execution_count": 162,
   "metadata": {},
   "outputs": [],
   "source": [
    "def clean_description(text):\n",
    "    \"\"\"Limpiar el texto y devolver una lista de palabras.\"\"\"\n",
    "    if not isinstance(text, str):\n",
    "        text = \"\"\n",
    "    text = text.lower()\n",
    "    text = re.sub(r'[^a-z\\s]', '', text)  # Eliminar caracteres especiales\n",
    "    words = text.split()\n",
    "    \n",
    "    # Lista de palabras vacías (stopwords) que no queremos contar\n",
    "    stoplist = set([\n",
    "        'de', 'con', 'y', 'sin', 'que', 'o', 'a', 'la', 'al', 'un', 'una', \n",
    "        'los', 'las', 'por', 'en', 'no', 'n.d', 'para', 's/m', 's/n', \n",
    "        'el', 'del', 'x/la', 'a', 'es','x','gb'\n",
    "    ])\n",
    "    words = [word for word in words if word not in stoplist]\n",
    "    return words"
   ]
  },
  {
   "cell_type": "code",
   "execution_count": 163,
   "metadata": {},
   "outputs": [],
   "source": [
    "def get_top_words(data, n=10):\n",
    "    \"\"\"Obtener las 'n' palabras más comunes en las descripciones.\"\"\"\n",
    "    # Unir todas las listas de palabras de las descripciones\n",
    "    all_words = [word for description in data['Descripcion_Limpia'] for word in description]\n",
    "    \n",
    "    # Contar la frecuencia de cada palabra\n",
    "    word_counts = Counter(all_words)\n",
    "    \n",
    "    # Seleccionar las 'n' palabras más comunes\n",
    "    top_words = [word for word, count in word_counts.most_common(n)]\n",
    "    return top_words"
   ]
  },
  {
   "cell_type": "code",
   "execution_count": 164,
   "metadata": {},
   "outputs": [],
   "source": [
    "def process_and_classify(data, n_top_words=10):\n",
    "    \"\"\"Añadir columnas para las 'n' palabras más comunes en la descripción.\"\"\"\n",
    "    # Limpiar la columna 'Descripcion' y crear una lista de palabras\n",
    "    data['Descripcion_Limpia'] = data['Descripcion'].apply(clean_description)\n",
    "\n",
    "    # Obtener las palabras más comunes\n",
    "    top_words = get_top_words(data, n_top_words)\n",
    "    \n",
    "    # Crear una columna para cada una de las palabras más comunes\n",
    "    for word in top_words:\n",
    "        data[word] = data['Descripcion_Limpia'].apply(lambda desc: 1 if word in desc else 0)\n",
    "\n",
    "    # Eliminar la columna auxiliar 'Descripcion_Limpia'\n",
    "    data = data.drop(columns=['Descripcion_Limpia'])\n",
    "\n",
    "    return data"
   ]
  },
  {
   "cell_type": "code",
   "execution_count": 165,
   "metadata": {},
   "outputs": [],
   "source": [
    "def add_classification_columns(data):\n",
    "    \"\"\"Añadir columnas para las clasificaciones predefinidas en 'Tipo' y 'Subtipo'.\"\"\"\n",
    "    default_types = ['mobiliario', 'equipo', 'transporte', 'libro']\n",
    "    \n",
    "    # Crear una columna para cada tipo predefinido\n",
    "    for tipo in default_types:\n",
    "        data[f'{tipo}'] = data.apply(lambda row: 1 if isinstance(row['Tipo'], str) and tipo in row['Tipo'].lower() \n",
    "                                               or isinstance(row['Subtipo'], str) and tipo in row['Subtipo'].lower() \n",
    "                                               else 0, axis=1)\n"
   ]
  },
  {
   "cell_type": "code",
   "execution_count": 166,
   "metadata": {},
   "outputs": [],
   "source": [
    "def process_and_classify(data, n_top_words=10):\n",
    "    \"\"\"Añadir columnas para las 'n' palabras más comunes en la descripción y las clasificaciones predefinidas.\"\"\"\n",
    "    # Limpiar la columna 'Descripcion' y crear una lista de palabras\n",
    "    data['Descripcion_Limpia'] = data['Descripcion'].apply(clean_description)\n",
    "\n",
    "    # Obtener las palabras más comunes\n",
    "    top_words = get_top_words(data, n_top_words)\n",
    "    \n",
    "    # Crear una columna para cada una de las palabras más comunes\n",
    "    for word in top_words:\n",
    "        data[word] = data['Descripcion_Limpia'].apply(lambda desc: 1 if word in desc else 0)\n",
    "\n",
    "    # Añadir las columnas de clasificación basadas en 'Tipo' y 'Subtipo'\n",
    "    add_classification_columns(data)\n",
    "\n",
    "    # Eliminar la columna auxiliar 'Descripcion_Limpia'\n",
    "    data = data.drop(columns=['Descripcion_Limpia'])\n",
    "\n",
    "    return data"
   ]
  },
  {
   "cell_type": "code",
   "execution_count": 167,
   "metadata": {},
   "outputs": [],
   "source": [
    "def filter_items(data, search_term):\n",
    "    \"\"\"Filtrar artículos que contengan el término de búsqueda en la descripción.\"\"\"\n",
    "    search_term = search_term.lower()\n",
    "    filtered_data = data[data['Descripcion'].apply(lambda x: search_term in x.lower())]\n",
    "    return filtered_data"
   ]
  },
  {
   "cell_type": "code",
   "execution_count": 168,
   "metadata": {},
   "outputs": [],
   "source": [
    "def save_results(data, output_file):\n",
    "    \"\"\"Guardar el DataFrame con las nuevas columnas en un archivo CSV.\"\"\"\n",
    "    data.to_csv(output_file, index=False)\n",
    "    print(f\"Resultados guardados en '{output_file}'\")"
   ]
  },
  {
   "cell_type": "code",
   "execution_count": 169,
   "metadata": {},
   "outputs": [
    {
     "name": "stdout",
     "output_type": "stream",
     "text": [
      "Columnas generadas:\n",
      "Index(['Tipo', 'Subtipo', 'Descripcion', 'color', 'negro', 'libro',\n",
      "       'computadora', 'madera', 'monitor', 'hp', 'mesa', 'factura', 'marca',\n",
      "       'silla', 'modelo', 'blanco', 'escritorio', 'cpu', 'cm', 'archivero',\n",
      "       'gris', 'disco', 'azul', 'mobiliario', 'equipo', 'transporte'],\n",
      "      dtype='object')\n",
      "Total de atributos generados: 26\n",
      "Resultados guardados en 'Clasificacion_Extendida.csv'\n"
     ]
    }
   ],
   "source": [
    "if __name__ == \"__main__\":\n",
    "    # Cargar los datos\n",
    "    data = load_data('Actividad10000.csv')\n",
    "\n",
    "    # Procesar y clasificar los datos tomando las 20 palabras más comunes\n",
    "    data = process_and_classify(data, n_top_words=20)\n",
    "\n",
    "    # Mostrar todas las columnas generadas\n",
    "    print(\"Columnas generadas:\")\n",
    "    print(data.columns)\n",
    "\n",
    "    # Mostrar el número total de columnas generadas\n",
    "    print(f\"Total de atributos generados: {len(data.columns)}\")\n",
    "\n",
    "    # Guardar resultados\n",
    "    save_results(data, 'Clasificacion_Extendida.csv')"
   ]
  }
 ],
 "metadata": {
  "kernelspec": {
   "display_name": "Python 3",
   "language": "python",
   "name": "python3"
  },
  "language_info": {
   "codemirror_mode": {
    "name": "ipython",
    "version": 3
   },
   "file_extension": ".py",
   "mimetype": "text/x-python",
   "name": "python",
   "nbconvert_exporter": "python",
   "pygments_lexer": "ipython3",
   "version": "3.12.6"
  }
 },
 "nbformat": 4,
 "nbformat_minor": 2
}
